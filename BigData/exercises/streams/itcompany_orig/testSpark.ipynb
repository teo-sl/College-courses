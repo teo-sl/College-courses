{
 "cells": [
  {
   "cell_type": "code",
   "execution_count": 54,
   "metadata": {},
   "outputs": [],
   "source": [
    "from email import header\n",
    "from struct import Struct\n",
    "from typing import List\n",
    "\n",
    "from pyspark.sql.types import *\n",
    "from pyspark.sql import SparkSession\n",
    "\n",
    "\n",
    "spark = (SparkSession\n",
    "            .builder\n",
    "            .appName(\"IT_comp\")\n",
    "            .getOrCreate()\n",
    "        )\n",
    "\n",
    "\n",
    "\n"
   ]
  },
  {
   "cell_type": "code",
   "execution_count": 55,
   "metadata": {},
   "outputs": [
    {
     "name": "stdout",
     "output_type": "stream",
     "text": [
      "+---+---------+---------+-----------+------+--------------------------+\n",
      "|id |name     |surname  |departement|salary|skills                    |\n",
      "+---+---------+---------+-----------+------+--------------------------+\n",
      "|0  |Carri    |Stogginb |C          |439   |C#  Java  C/C++           |\n",
      "|1  |Trethaw  |Adestic  |C          |843   |C#  Java  Python          |\n",
      "|2  |Upigniona|Sleniator|B          |256   |Java                      |\n",
      "|3  |Psater   |Easephif |D          |697   |Storm  R  Python          |\n",
      "|4  |Tentestes|Ieutimena|D          |251   |Java  Python              |\n",
      "|5  |Furron   |Asmahed  |D          |2745  |C/C++  Java  Spark  Python|\n",
      "|6  |Anca     |Ardas    |A          |318   |C/C++                     |\n",
      "|7  |Arym     |Atinquis |C          |2786  |Spark  Python             |\n",
      "|8  |Halarstar|Cloap    |C          |538   |C#  R                     |\n",
      "|9  |Molotonla|Strou    |B          |607   |C#  C/C++  Python         |\n",
      "+---+---------+---------+-----------+------+--------------------------+\n",
      "only showing top 10 rows\n",
      "\n"
     ]
    }
   ],
   "source": [
    "schema = StructType([\n",
    "    StructField(\"id\",IntegerType(),False),\n",
    "    StructField(\"name\",StringType(),False),\n",
    "    StructField(\"surname\",StringType(),False),\n",
    "    StructField(\"departement\",StringType(),False),\n",
    "    StructField(\"salary\",IntegerType(),False),\n",
    "    StructField(\"skills\",StringType(),False)\n",
    "])\n",
    "\n",
    "df = spark.read.csv(\"./redo.csv\",header=False,schema=schema)\n",
    "\n",
    "df.show(n=10,truncate=False)"
   ]
  },
  {
   "cell_type": "code",
   "execution_count": 56,
   "metadata": {},
   "outputs": [
    {
     "name": "stdout",
     "output_type": "stream",
     "text": [
      "+---+---------+---------+-----------+------+--------------------+\n",
      "| id|     name|  surname|departement|salary|              skills|\n",
      "+---+---------+---------+-----------+------+--------------------+\n",
      "|  0|    Carri| Stogginb|          C|   439|   [C#, Java, C/C++]|\n",
      "|  1|  Trethaw|  Adestic|          C|   843|  [C#, Java, Python]|\n",
      "|  2|Upigniona|Sleniator|          B|   256|              [Java]|\n",
      "|  3|   Psater| Easephif|          D|   697|  [Storm, R, Python]|\n",
      "|  4|Tentestes|Ieutimena|          D|   251|      [Java, Python]|\n",
      "|  5|   Furron|  Asmahed|          D|  2745|[C/C++, Java, Spa...|\n",
      "|  6|     Anca|    Ardas|          A|   318|             [C/C++]|\n",
      "|  7|     Arym| Atinquis|          C|  2786|     [Spark, Python]|\n",
      "|  8|Halarstar|    Cloap|          C|   538|             [C#, R]|\n",
      "|  9|Molotonla|    Strou|          B|   607| [C#, C/C++, Python]|\n",
      "| 10| Andaltim|     Tors|          D|    98|              [Java]|\n",
      "| 11|    Accep|    Pille|          A|  5400|   [C#, Java, Spark]|\n",
      "| 12|   Ckiney|  Inalock|          B|  4022|[C#, Javascript, ...|\n",
      "| 13|   Timett|Doxyletio|          C|   220|        [Javascript]|\n",
      "| 14|   Gethyp|Coneweyet|          A|  2792|[C/C++, Javascrip...|\n",
      "| 15| Rewatort| Esionbla|          C|  2910|         [C#, Spark]|\n",
      "| 16| Aneforeh|  Uruitec|          D|  1755|  [C#, C/C++, Spark]|\n",
      "| 17|  Ludgett|   Tiende|          C|   539|  [C/C++, R, Python]|\n",
      "| 18| Gorasila|Thablense|          C|  3443|      [C/C++, Spark]|\n",
      "| 19|     Ucar|   Rectat|          C|   904|[Java, Storm, Pyt...|\n",
      "+---+---------+---------+-----------+------+--------------------+\n",
      "only showing top 20 rows\n",
      "\n"
     ]
    }
   ],
   "source": [
    "from pyspark.sql.functions import col, split\n",
    "\n",
    "df = df.withColumn('skills', split(col('skills'),\"  \"))\n",
    "df.show()"
   ]
  },
  {
   "cell_type": "code",
   "execution_count": 38,
   "metadata": {},
   "outputs": [
    {
     "name": "stdout",
     "output_type": "stream",
     "text": [
      "+-----------+------------------+\n",
      "|departement|        avg_salary|\n",
      "+-----------+------------------+\n",
      "|          A| 1959.696881091618|\n",
      "|          B|1458.1549576482312|\n",
      "|          C|1074.5340296495956|\n",
      "|          D| 720.4279105628373|\n",
      "+-----------+------------------+\n",
      "\n"
     ]
    }
   ],
   "source": [
    "from itertools import groupby\n",
    "import pyspark.sql.functions as F\n",
    "\n",
    "\n",
    "(df\n",
    "    .groupby(\"departement\")\n",
    "    .agg(F.avg(\"salary\").alias(\"avg_salary\"))\n",
    "    .orderBy(col(\"avg_salary\").desc())\n",
    "    .show()\n",
    ")"
   ]
  },
  {
   "cell_type": "code",
   "execution_count": 57,
   "metadata": {},
   "outputs": [
    {
     "name": "stdout",
     "output_type": "stream",
     "text": [
      "+----------+------------------+\n",
      "|    skills|        avg_salary|\n",
      "+----------+------------------+\n",
      "|     Spark|  2854.00245398773|\n",
      "|Javascript| 1217.235418875928|\n",
      "|         R|   1202.1435546875|\n",
      "|        C#|1182.9353876739563|\n",
      "|       PHP|1178.2782426778242|\n",
      "|    Python| 1169.735187760779|\n",
      "|     C/C++|  1161.35306628855|\n",
      "|      Java|1148.8350316717158|\n",
      "|      Hive| 893.5743243243244|\n",
      "|    Hadoop| 889.2778702163062|\n",
      "|     Storm| 878.0658857979503|\n",
      "|       MPI| 873.6853582554517|\n",
      "+----------+------------------+\n",
      "\n"
     ]
    }
   ],
   "source": [
    "(df\n",
    "    .withColumn(\"skills\",F.explode(\"skills\"))\n",
    "    .groupBy(\"skills\")\n",
    "    .agg(F.avg(\"salary\").alias(\"avg_salary\"))\n",
    "    .orderBy(col(\"avg_salary\").desc())   \n",
    "    .show() \n",
    ")"
   ]
  },
  {
   "cell_type": "code",
   "execution_count": 58,
   "metadata": {},
   "outputs": [
    {
     "name": "stdout",
     "output_type": "stream",
     "text": [
      "+-----------+----------+------------------+\n",
      "|departement|    skills|        avg_salary|\n",
      "+-----------+----------+------------------+\n",
      "|          A|     Spark|5121.3591836734695|\n",
      "|          B|     Spark| 3798.280163599182|\n",
      "|          C|     Spark|2776.1414965986396|\n",
      "|          A|         R|2245.5757575757575|\n",
      "|          A|        C#|2197.8039215686276|\n",
      "|          A|Javascript|2158.6534653465346|\n",
      "|          A|     C/C++|2067.7665615141955|\n",
      "|          A|      Java|  1987.60162601626|\n",
      "|          A|       PHP|1984.7894736842106|\n",
      "|          A|    Python|1974.9005376344087|\n",
      "|          D|     Spark|1870.3688524590164|\n",
      "|          B|         R|1689.3830845771145|\n",
      "|          B|       PHP| 1689.313315926893|\n",
      "|          A|    Hadoop|         1677.8125|\n",
      "|          B|Javascript|1618.2702702702702|\n",
      "|          A|     Storm|1594.0133333333333|\n",
      "|          A|       MPI| 1582.295081967213|\n",
      "|          A|      Hive|       1581.796875|\n",
      "|          B|     C/C++|1562.5747747747748|\n",
      "|          B|        C#|1524.0173697270473|\n",
      "+-----------+----------+------------------+\n",
      "only showing top 20 rows\n",
      "\n"
     ]
    }
   ],
   "source": [
    "(df\n",
    "    .withColumn(\"skills\",F.explode(\"skills\"))\n",
    "    .groupBy(\"departement\",\"skills\")\n",
    "    .agg(F.avg(\"salary\").alias(\"avg_salary\"))\n",
    "    .orderBy(col(\"avg_salary\").desc())   \n",
    "    .show() \n",
    ")"
   ]
  },
  {
   "cell_type": "code",
   "execution_count": 65,
   "metadata": {},
   "outputs": [
    {
     "name": "stdout",
     "output_type": "stream",
     "text": [
      "+----------+-----------+-----------+\n",
      "|    skills|departement|max(salary)|\n",
      "+----------+-----------+-----------+\n",
      "|     Spark|          A|       8487|\n",
      "|        C#|          A|       8487|\n",
      "|       PHP|          A|       8487|\n",
      "|    Python|          A|       8487|\n",
      "|     C/C++|          A|       8376|\n",
      "|         R|          A|       8376|\n",
      "|      Java|          A|       8326|\n",
      "|Javascript|          A|       8082|\n",
      "|      Java|          B|       6487|\n",
      "|     Spark|          B|       6487|\n",
      "|       PHP|          B|       6487|\n",
      "|    Python|          B|       6487|\n",
      "|     C/C++|          B|       6472|\n",
      "|         R|          B|       6472|\n",
      "|Javascript|          B|       6367|\n",
      "|        C#|          B|       6238|\n",
      "|Javascript|          C|       4641|\n",
      "|     Spark|          C|       4641|\n",
      "|      Java|          C|       4641|\n",
      "|    Python|          C|       4641|\n",
      "+----------+-----------+-----------+\n",
      "only showing top 20 rows\n",
      "\n"
     ]
    }
   ],
   "source": [
    "(df\n",
    "    .withColumn(\"skills\",F.explode(\"skills\"))\n",
    "    .groupBy(\"skills\",\"departement\")\n",
    "    .max(\"salary\")\n",
    "    .orderBy(col(\"max(salary)\").desc())\n",
    "    .show() \n",
    ")"
   ]
  },
  {
   "cell_type": "code",
   "execution_count": 53,
   "metadata": {},
   "outputs": [],
   "source": [
    "f1 = open(\"./ITCompany_10000.csv\")\n",
    "f2 = open(\"./redo.csv\",\"w\")\n",
    "for l in f1:\n",
    "    parts = l.split(\"[\")\n",
    "    nl = parts[1].replace(\",\",\" \").replace(\"]\",\"\")\n",
    "    new_line = parts[0]+nl\n",
    "    new_line=new_line.strip()\n",
    "    new_new_line=\"\"\n",
    "    for x in new_line.split(\" \"):\n",
    "        new_new_line+=x.strip()+\" \"\n",
    "    new_new_line=new_new_line.strip()+'\\n'\n",
    "    f2.write(new_line)\n",
    "    f2.write('\\n')\n",
    "    \n",
    "\n",
    "\n"
   ]
  }
 ],
 "metadata": {
  "kernelspec": {
   "display_name": "Python 3.10.7 64-bit",
   "language": "python",
   "name": "python3"
  },
  "language_info": {
   "codemirror_mode": {
    "name": "ipython",
    "version": 3
   },
   "file_extension": ".py",
   "mimetype": "text/x-python",
   "name": "python",
   "nbconvert_exporter": "python",
   "pygments_lexer": "ipython3",
   "version": "3.10.7"
  },
  "orig_nbformat": 4,
  "vscode": {
   "interpreter": {
    "hash": "b0fa6594d8f4cbf19f97940f81e996739fb7646882a419484c72d19e05852a7e"
   }
  }
 },
 "nbformat": 4,
 "nbformat_minor": 2
}
