{
  "nbformat": 4,
  "nbformat_minor": 0,
  "metadata": {
    "colab": {
      "provenance": [],
      "collapsed_sections": []
    },
    "kernelspec": {
      "name": "python3",
      "display_name": "Python 3"
    },
    "language_info": {
      "name": "python"
    },
    "gpuClass": "standard"
  },
  "cells": [
    {
      "cell_type": "code",
      "execution_count": null,
      "metadata": {
        "id": "4Gh3Q3HSNy3Y"
      },
      "outputs": [],
      "source": [
        "import tensorflow as tf\n",
        "import numpy as np\n",
        "import pandas as pd\n",
        "import matplotlib.pyplot as plt\n",
        "import sys, os\n",
        "from glob import glob\n",
        "import cv2\n",
        "import sklearn\n",
        "import math"
      ]
    },
    {
      "cell_type": "code",
      "source": [
        "!pip install -q kaggle\n",
        "from google.colab import files\n",
        "files.upload()\n",
        "!mkdir ~/.kaggle\n",
        "! cp kaggle.json ~/.kaggle/\n",
        "! chmod 600 ~/.kaggle/kaggle.json"
      ],
      "metadata": {
        "colab": {
          "base_uri": "https://localhost:8080/",
          "height": 92
        },
        "id": "jODEKMXZN4zQ",
        "outputId": "9a9e0322-ac0f-49ba-f63a-a22a0bb0953d"
      },
      "execution_count": null,
      "outputs": [
        {
          "output_type": "display_data",
          "data": {
            "text/plain": [
              "<IPython.core.display.HTML object>"
            ],
            "text/html": [
              "\n",
              "     <input type=\"file\" id=\"files-5087763e-f2b0-4801-b041-13e599cb4f2d\" name=\"files[]\" multiple disabled\n",
              "        style=\"border:none\" />\n",
              "     <output id=\"result-5087763e-f2b0-4801-b041-13e599cb4f2d\">\n",
              "      Upload widget is only available when the cell has been executed in the\n",
              "      current browser session. Please rerun this cell to enable.\n",
              "      </output>\n",
              "      <script>// Copyright 2017 Google LLC\n",
              "//\n",
              "// Licensed under the Apache License, Version 2.0 (the \"License\");\n",
              "// you may not use this file except in compliance with the License.\n",
              "// You may obtain a copy of the License at\n",
              "//\n",
              "//      http://www.apache.org/licenses/LICENSE-2.0\n",
              "//\n",
              "// Unless required by applicable law or agreed to in writing, software\n",
              "// distributed under the License is distributed on an \"AS IS\" BASIS,\n",
              "// WITHOUT WARRANTIES OR CONDITIONS OF ANY KIND, either express or implied.\n",
              "// See the License for the specific language governing permissions and\n",
              "// limitations under the License.\n",
              "\n",
              "/**\n",
              " * @fileoverview Helpers for google.colab Python module.\n",
              " */\n",
              "(function(scope) {\n",
              "function span(text, styleAttributes = {}) {\n",
              "  const element = document.createElement('span');\n",
              "  element.textContent = text;\n",
              "  for (const key of Object.keys(styleAttributes)) {\n",
              "    element.style[key] = styleAttributes[key];\n",
              "  }\n",
              "  return element;\n",
              "}\n",
              "\n",
              "// Max number of bytes which will be uploaded at a time.\n",
              "const MAX_PAYLOAD_SIZE = 100 * 1024;\n",
              "\n",
              "function _uploadFiles(inputId, outputId) {\n",
              "  const steps = uploadFilesStep(inputId, outputId);\n",
              "  const outputElement = document.getElementById(outputId);\n",
              "  // Cache steps on the outputElement to make it available for the next call\n",
              "  // to uploadFilesContinue from Python.\n",
              "  outputElement.steps = steps;\n",
              "\n",
              "  return _uploadFilesContinue(outputId);\n",
              "}\n",
              "\n",
              "// This is roughly an async generator (not supported in the browser yet),\n",
              "// where there are multiple asynchronous steps and the Python side is going\n",
              "// to poll for completion of each step.\n",
              "// This uses a Promise to block the python side on completion of each step,\n",
              "// then passes the result of the previous step as the input to the next step.\n",
              "function _uploadFilesContinue(outputId) {\n",
              "  const outputElement = document.getElementById(outputId);\n",
              "  const steps = outputElement.steps;\n",
              "\n",
              "  const next = steps.next(outputElement.lastPromiseValue);\n",
              "  return Promise.resolve(next.value.promise).then((value) => {\n",
              "    // Cache the last promise value to make it available to the next\n",
              "    // step of the generator.\n",
              "    outputElement.lastPromiseValue = value;\n",
              "    return next.value.response;\n",
              "  });\n",
              "}\n",
              "\n",
              "/**\n",
              " * Generator function which is called between each async step of the upload\n",
              " * process.\n",
              " * @param {string} inputId Element ID of the input file picker element.\n",
              " * @param {string} outputId Element ID of the output display.\n",
              " * @return {!Iterable<!Object>} Iterable of next steps.\n",
              " */\n",
              "function* uploadFilesStep(inputId, outputId) {\n",
              "  const inputElement = document.getElementById(inputId);\n",
              "  inputElement.disabled = false;\n",
              "\n",
              "  const outputElement = document.getElementById(outputId);\n",
              "  outputElement.innerHTML = '';\n",
              "\n",
              "  const pickedPromise = new Promise((resolve) => {\n",
              "    inputElement.addEventListener('change', (e) => {\n",
              "      resolve(e.target.files);\n",
              "    });\n",
              "  });\n",
              "\n",
              "  const cancel = document.createElement('button');\n",
              "  inputElement.parentElement.appendChild(cancel);\n",
              "  cancel.textContent = 'Cancel upload';\n",
              "  const cancelPromise = new Promise((resolve) => {\n",
              "    cancel.onclick = () => {\n",
              "      resolve(null);\n",
              "    };\n",
              "  });\n",
              "\n",
              "  // Wait for the user to pick the files.\n",
              "  const files = yield {\n",
              "    promise: Promise.race([pickedPromise, cancelPromise]),\n",
              "    response: {\n",
              "      action: 'starting',\n",
              "    }\n",
              "  };\n",
              "\n",
              "  cancel.remove();\n",
              "\n",
              "  // Disable the input element since further picks are not allowed.\n",
              "  inputElement.disabled = true;\n",
              "\n",
              "  if (!files) {\n",
              "    return {\n",
              "      response: {\n",
              "        action: 'complete',\n",
              "      }\n",
              "    };\n",
              "  }\n",
              "\n",
              "  for (const file of files) {\n",
              "    const li = document.createElement('li');\n",
              "    li.append(span(file.name, {fontWeight: 'bold'}));\n",
              "    li.append(span(\n",
              "        `(${file.type || 'n/a'}) - ${file.size} bytes, ` +\n",
              "        `last modified: ${\n",
              "            file.lastModifiedDate ? file.lastModifiedDate.toLocaleDateString() :\n",
              "                                    'n/a'} - `));\n",
              "    const percent = span('0% done');\n",
              "    li.appendChild(percent);\n",
              "\n",
              "    outputElement.appendChild(li);\n",
              "\n",
              "    const fileDataPromise = new Promise((resolve) => {\n",
              "      const reader = new FileReader();\n",
              "      reader.onload = (e) => {\n",
              "        resolve(e.target.result);\n",
              "      };\n",
              "      reader.readAsArrayBuffer(file);\n",
              "    });\n",
              "    // Wait for the data to be ready.\n",
              "    let fileData = yield {\n",
              "      promise: fileDataPromise,\n",
              "      response: {\n",
              "        action: 'continue',\n",
              "      }\n",
              "    };\n",
              "\n",
              "    // Use a chunked sending to avoid message size limits. See b/62115660.\n",
              "    let position = 0;\n",
              "    do {\n",
              "      const length = Math.min(fileData.byteLength - position, MAX_PAYLOAD_SIZE);\n",
              "      const chunk = new Uint8Array(fileData, position, length);\n",
              "      position += length;\n",
              "\n",
              "      const base64 = btoa(String.fromCharCode.apply(null, chunk));\n",
              "      yield {\n",
              "        response: {\n",
              "          action: 'append',\n",
              "          file: file.name,\n",
              "          data: base64,\n",
              "        },\n",
              "      };\n",
              "\n",
              "      let percentDone = fileData.byteLength === 0 ?\n",
              "          100 :\n",
              "          Math.round((position / fileData.byteLength) * 100);\n",
              "      percent.textContent = `${percentDone}% done`;\n",
              "\n",
              "    } while (position < fileData.byteLength);\n",
              "  }\n",
              "\n",
              "  // All done.\n",
              "  yield {\n",
              "    response: {\n",
              "      action: 'complete',\n",
              "    }\n",
              "  };\n",
              "}\n",
              "\n",
              "scope.google = scope.google || {};\n",
              "scope.google.colab = scope.google.colab || {};\n",
              "scope.google.colab._files = {\n",
              "  _uploadFiles,\n",
              "  _uploadFilesContinue,\n",
              "};\n",
              "})(self);\n",
              "</script> "
            ]
          },
          "metadata": {}
        },
        {
          "output_type": "stream",
          "name": "stdout",
          "text": [
            "Saving kaggle.json to kaggle.json\n"
          ]
        }
      ]
    },
    {
      "cell_type": "code",
      "source": [
        "! kaggle datasets download -d hamzaboulahia/hardfakevsrealfaces"
      ],
      "metadata": {
        "colab": {
          "base_uri": "https://localhost:8080/"
        },
        "id": "0et6Vz2nN5qs",
        "outputId": "2b1e56d4-352d-40bd-b6c6-9f346d075e8b"
      },
      "execution_count": null,
      "outputs": [
        {
          "output_type": "stream",
          "name": "stdout",
          "text": [
            "Downloading hardfakevsrealfaces.zip to /content\n",
            "\r  0% 0.00/15.3M [00:00<?, ?B/s]\r 46% 7.00M/15.3M [00:00<00:00, 67.7MB/s]\n",
            "\r100% 15.3M/15.3M [00:00<00:00, 104MB/s] \n"
          ]
        }
      ]
    },
    {
      "cell_type": "code",
      "source": [
        "!mkdir data/\n",
        "!unzip -qq hardfakevsrealfaces.zip "
      ],
      "metadata": {
        "id": "w3t7jUGeOAqz"
      },
      "execution_count": null,
      "outputs": []
    },
    {
      "cell_type": "code",
      "source": [
        "!wget http://www.robots.ox.ac.uk/~vgg/data/background_google/google_things.tar"
      ],
      "metadata": {
        "id": "nQpVQZZ3OOz3",
        "colab": {
          "base_uri": "https://localhost:8080/"
        },
        "outputId": "346b5ff6-c494-47e3-8882-0188f72d3626"
      },
      "execution_count": null,
      "outputs": [
        {
          "output_type": "stream",
          "name": "stdout",
          "text": [
            "--2022-11-06 22:06:57--  http://www.robots.ox.ac.uk/~vgg/data/background_google/google_things.tar\n",
            "Resolving www.robots.ox.ac.uk (www.robots.ox.ac.uk)... 129.67.94.2\n",
            "Connecting to www.robots.ox.ac.uk (www.robots.ox.ac.uk)|129.67.94.2|:80... connected.\n",
            "HTTP request sent, awaiting response... 301 Moved Permanently\n",
            "Location: https://www.robots.ox.ac.uk/~vgg/data/background_google/google_things.tar [following]\n",
            "--2022-11-06 22:06:58--  https://www.robots.ox.ac.uk/~vgg/data/background_google/google_things.tar\n",
            "Connecting to www.robots.ox.ac.uk (www.robots.ox.ac.uk)|129.67.94.2|:443... connected.\n",
            "HTTP request sent, awaiting response... 200 OK\n",
            "Length: 18872320 (18M) [application/x-tar]\n",
            "Saving to: ‘google_things.tar’\n",
            "\n",
            "google_things.tar   100%[===================>]  18.00M  12.3MB/s    in 1.5s    \n",
            "\n",
            "2022-11-06 22:07:00 (12.3 MB/s) - ‘google_things.tar’ saved [18872320/18872320]\n",
            "\n"
          ]
        }
      ]
    },
    {
      "cell_type": "code",
      "source": [
        "!tar -xf google_things.tar\n",
        "!mkdir data/0\n",
        "!cp *.jpg data/0\n",
        "!rm *jpg \n",
        "!mkdir data/1\n",
        "!mv real/*.jpg data/1\n",
        "!rm -r fake real "
      ],
      "metadata": {
        "id": "M_vHxpROvt_V"
      },
      "execution_count": null,
      "outputs": []
    },
    {
      "cell_type": "code",
      "source": [
        "path_faces = glob('./data/1/*')\n",
        "path_background = glob('./data/0/*')"
      ],
      "metadata": {
        "id": "KOtmjIJBwi0E"
      },
      "execution_count": null,
      "outputs": []
    },
    {
      "cell_type": "code",
      "source": [
        "def load_images_from_folder(files):\n",
        "    images = []\n",
        "    for filename in files:\n",
        "        img = cv2.imread(filename)\n",
        "        gray = cv2.cvtColor(img, cv2.COLOR_BGR2GRAY)\n",
        "        resized = cv2.resize(gray, (24,24), interpolation = cv2.INTER_AREA)\n",
        "        if resized is not None:\n",
        "            images.append(resized)\n",
        "    return np.array(images)"
      ],
      "metadata": {
        "id": "HZgsz9TOw1za"
      },
      "execution_count": null,
      "outputs": []
    },
    {
      "cell_type": "code",
      "source": [
        "face_images = load_images_from_folder(path_faces)\n",
        "background_images = load_images_from_folder(path_background)\n"
      ],
      "metadata": {
        "id": "n0nNoP67x0qo"
      },
      "execution_count": null,
      "outputs": []
    },
    {
      "cell_type": "code",
      "source": [
        "face_images.shape"
      ],
      "metadata": {
        "colab": {
          "base_uri": "https://localhost:8080/"
        },
        "id": "aCmTaH_SyiO9",
        "outputId": "cc59fa7e-2eb4-488b-b85d-f475346043ee"
      },
      "execution_count": null,
      "outputs": [
        {
          "output_type": "execute_result",
          "data": {
            "text/plain": [
              "(589, 24, 24)"
            ]
          },
          "metadata": {},
          "execution_count": 10
        }
      ]
    },
    {
      "cell_type": "code",
      "source": [
        "background_images.shape"
      ],
      "metadata": {
        "colab": {
          "base_uri": "https://localhost:8080/"
        },
        "id": "EvVkyMBuz-ZC",
        "outputId": "c2f225cc-00c8-4f1c-c22a-b592fe25b7cd"
      },
      "execution_count": null,
      "outputs": [
        {
          "output_type": "execute_result",
          "data": {
            "text/plain": [
              "(520, 24, 24)"
            ]
          },
          "metadata": {},
          "execution_count": 11
        }
      ]
    },
    {
      "cell_type": "code",
      "source": [
        "y1 = np.ones(face_images.shape[0])\n",
        "y0 = np.full(background_images.shape[0],-1)\n",
        "Y = np.concatenate((y1,y0),axis=0)"
      ],
      "metadata": {
        "id": "elt7JWol0hrw"
      },
      "execution_count": null,
      "outputs": []
    },
    {
      "cell_type": "code",
      "source": [
        "X = np.concatenate((face_images,background_images),axis=0)"
      ],
      "metadata": {
        "id": "P7XyYfmy0JIo"
      },
      "execution_count": null,
      "outputs": []
    },
    {
      "cell_type": "code",
      "source": [
        "X.shape"
      ],
      "metadata": {
        "colab": {
          "base_uri": "https://localhost:8080/"
        },
        "id": "Ms72RQDC0-E6",
        "outputId": "a53e8922-d33c-4879-b8ac-77673d5eda71"
      },
      "execution_count": null,
      "outputs": [
        {
          "output_type": "execute_result",
          "data": {
            "text/plain": [
              "(1109, 24, 24)"
            ]
          },
          "metadata": {},
          "execution_count": 14
        }
      ]
    },
    {
      "cell_type": "code",
      "source": [
        "Y.shape"
      ],
      "metadata": {
        "colab": {
          "base_uri": "https://localhost:8080/"
        },
        "id": "xbAVCsQD0_G5",
        "outputId": "d227a226-4fa9-4dad-f5b2-c5de11b6990b"
      },
      "execution_count": null,
      "outputs": [
        {
          "output_type": "execute_result",
          "data": {
            "text/plain": [
              "(1109,)"
            ]
          },
          "metadata": {},
          "execution_count": 15
        }
      ]
    },
    {
      "cell_type": "code",
      "source": [
        "from sklearn.model_selection import train_test_split\n",
        "\n",
        "X_train, X_test, y_train, y_test = train_test_split(X,Y,test_size=0.2,random_state=42)"
      ],
      "metadata": {
        "id": "b857s6aa1Ak3"
      },
      "execution_count": null,
      "outputs": []
    },
    {
      "cell_type": "code",
      "source": [
        "class DecisionStump(sklearn.base.BaseEstimator):\n",
        "    def __init__(self):\n",
        "        self.axis_ = 0  \n",
        "        self.thres_ = 0.5  \n",
        "        self.direction_ = 1  \n",
        "        self.classes_ = np.array([-1, 1])  \n",
        "        self.n_classes_ = 2  \n",
        "\n",
        "    def fit(self, X, y, sample_weight=None):\n",
        "        if sample_weight is None:\n",
        "            sample_weight = np.ones((len(X),1))\n",
        "        W = sample_weight.sum()  \n",
        "        m = X.shape[0] # number of rows\n",
        "        d = 24**2 * 4 # number of dimension\n",
        "        self.classes_ = np.unique(y) # numero di classi, per il classificatore binario sono due\n",
        "        W0 = sample_weight[np.where(y==self.classes_[0])[0]].sum()  \n",
        "        minerr = W  \n",
        "        for j in np.random.randint(size=d,low=0,high=24**4*4):\n",
        "            values = project_samples(X,j)\n",
        "            sorted_id = np.argsort(values)  \n",
        "            x = values[sorted_id[0]] - 0.5  \n",
        "            err = W0\n",
        "            for i in range(m):\n",
        "                if(i<m-1):\n",
        "                    x = (values[sorted_id[i]]+values[sorted_id[i+1]])/2  \n",
        "                else:\n",
        "                    x = values[sorted_id[i]] + 0.5  \n",
        "                if y[sorted_id[i]]==self.classes_[0]:\n",
        "                    err = err-sample_weight[sorted_id[i]]\n",
        "                else:\n",
        "                    err = err+sample_weight[sorted_id[i]]\n",
        "                if err<minerr:\n",
        "                    self.axis_ = j\n",
        "                    self.thres_ = x  \n",
        "                    self.direction_ = 1\n",
        "                    minerr = err\n",
        "                if W-err<minerr:\n",
        "                    self.axis_ = j\n",
        "                    self.thres_ = x  \n",
        "                    self.direction_ = -1\n",
        "                    minerr = W-err\n",
        "        return self\n",
        "    def predict(self, X):\n",
        "        values = project_samples(X,self.axis_)\n",
        "        i = values[:]<=self.thres_  \n",
        "        j = values[:]>self.thres_  \n",
        "        p = self.classes_[0]*np.ones(len(X))  \n",
        "        if self.direction_==1:\n",
        "            p[j] = self.classes_[1]  \n",
        "        else:\n",
        "            p[i] = self.classes_[1]  \n",
        "        return p  \n",
        "\n",
        "def project_samples(X,d):\n",
        "    dim = 24\n",
        "    r = (d//4)%dim\n",
        "    p = (d//(dim*4))%dim\n",
        "    j = (d//(dim**2*4))%dim\n",
        "    i = (d//(dim**3*4))%dim\n",
        "    filter = d%4\n",
        "\n",
        "    ret=[]\n",
        "\n",
        "    for x in X:\n",
        "        rettangolo = evaulate_rett([i,j],[p,r],x)\n",
        "\n",
        "        if(filter==0):\n",
        "            ret.append(first_mask(rettangolo))\n",
        "        elif(filter==1):\n",
        "            ret.append(second_mask(rettangolo))\n",
        "        elif(filter==2):\n",
        "            ret.append(third_mask(rettangolo))\n",
        "        elif(filter==3):\n",
        "            ret.append(fourth_mask(rettangolo))\n",
        "    \n",
        "    return np.array(ret)\n",
        "\n",
        "\n",
        "def evaulate_rett(xs,ys,X):\n",
        "    x_min=min(xs)\n",
        "    x_max=max(xs)\n",
        "    y_min=min(ys)\n",
        "    y_max=max(ys)\n",
        "\n",
        "    return X[x_min:x_max+1,y_min:y_max+1]\n",
        "\n",
        "\n",
        "def first_mask(X):\n",
        "    s1 = 0\n",
        "    s2 = 0\n",
        "    (m,n)=X.shape\n",
        "\n",
        "    x_med =math.floor(n/2)\n",
        "\n",
        "\n",
        "    for i in range(0,m):\n",
        "        for j in range(0,n):\n",
        "            if(j<=x_med):\n",
        "                s1+=X[i,j]\n",
        "            else:\n",
        "                s2+=X[i,j]\n",
        "    return s1-s2\n",
        "\n",
        "def second_mask(X):\n",
        "    s1 = 0\n",
        "    s2 = 0\n",
        "    (m,n)=X.shape\n",
        "\n",
        "    x_med =math.floor(m/2)\n",
        "\n",
        "\n",
        "    for i in range(0,m):\n",
        "        for j in range(0,n):\n",
        "            if(i<=x_med):\n",
        "                s1+=X[i,j]\n",
        "            else:\n",
        "                s2+=X[i,j]\n",
        "    return s1-s2\n",
        "\n",
        "\n",
        "def third_mask(X):\n",
        "    s1 = 0\n",
        "    s2 = 0\n",
        "    (m,n)=X.shape\n",
        "\n",
        "    x_1 =math.floor(n/3)\n",
        "    x_2 = x_1*2\n",
        "\n",
        "\n",
        "\n",
        "    for i in range(0,m):\n",
        "        for j in range(0,n):\n",
        "            if(j<=x_1 or j>x_2):\n",
        "                s1+=X[i,j]\n",
        "            else:\n",
        "                s2+=X[i,j]\n",
        "    return s1-s2\n",
        "\n",
        "\n",
        "def fourth_mask(X):\n",
        "    s1 = 0\n",
        "    s2 = 0\n",
        "    (m,n)=X.shape\n",
        "\n",
        "    x_n =math.floor(n/2)\n",
        "    x_m = math.floor(m/2)\n",
        "\n",
        "\n",
        "    for i in range(0,m):\n",
        "        for j in range(0,n):\n",
        "            if(i<=x_m and j<=x_n or i>x_m and j>x_n):\n",
        "                s2+=X[i,j]\n",
        "            else:\n",
        "                s1+=X[i,j]\n",
        "    return s1-s2"
      ],
      "metadata": {
        "id": "RKewwvs21YgR"
      },
      "execution_count": 21,
      "outputs": []
    },
    {
      "cell_type": "code",
      "source": [
        "ne = 3"
      ],
      "metadata": {
        "id": "DgruBRfB1uxQ"
      },
      "execution_count": 22,
      "outputs": []
    },
    {
      "cell_type": "code",
      "source": [
        "import sklearn.ensemble as ske\n",
        "\n",
        "ada_clf = ske.AdaBoostClassifier(DecisionStump(),n_estimators=ne, algorithm='SAMME')"
      ],
      "metadata": {
        "id": "CC2Yd18H1lnJ"
      },
      "execution_count": 25,
      "outputs": []
    },
    {
      "cell_type": "code",
      "source": [
        "ada_clf.fit(X_train,y_train)"
      ],
      "metadata": {
        "id": "27yfCJr_1yzS",
        "colab": {
          "base_uri": "https://localhost:8080/"
        },
        "outputId": "be0be049-e945-40f7-caba-fb82b920a1f1"
      },
      "execution_count": 26,
      "outputs": [
        {
          "output_type": "execute_result",
          "data": {
            "text/plain": [
              "AdaBoostClassifier(algorithm='SAMME', base_estimator=DecisionStump(),\n",
              "                   n_estimators=3)"
            ]
          },
          "metadata": {},
          "execution_count": 26
        }
      ]
    },
    {
      "cell_type": "code",
      "source": [
        "y_pred = ada_clf.predict(X_test)"
      ],
      "metadata": {
        "id": "8meyfBoJ2GY-"
      },
      "execution_count": 27,
      "outputs": []
    },
    {
      "cell_type": "code",
      "source": [
        "from sklearn.metrics import confusion_matrix\n",
        "\n",
        "confusion_matrix(y_test,y_pred)"
      ],
      "metadata": {
        "colab": {
          "base_uri": "https://localhost:8080/"
        },
        "id": "VKQz4afqCbRv",
        "outputId": "50794ec5-5534-48d0-9bad-80601aa25233"
      },
      "execution_count": 41,
      "outputs": [
        {
          "output_type": "execute_result",
          "data": {
            "text/plain": [
              "array([[ 79,  18],\n",
              "       [  8, 117]])"
            ]
          },
          "metadata": {},
          "execution_count": 41
        }
      ]
    },
    {
      "cell_type": "code",
      "source": [
        "error_imgs = X_test[np.where(y_test==y_pred)]"
      ],
      "metadata": {
        "id": "vzEqZobuEOiI"
      },
      "execution_count": 34,
      "outputs": []
    },
    {
      "cell_type": "code",
      "source": [
        "from google.colab.patches import cv2_imshow\n",
        "cv2_imshow(error_imgs[np.random.choice(len(error_imgs))])"
      ],
      "metadata": {
        "colab": {
          "base_uri": "https://localhost:8080/",
          "height": 62
        },
        "id": "NNIAnQ9UEH5Q",
        "outputId": "e0dadf8a-c142-4190-bd42-5fd4aeefb318"
      },
      "execution_count": 46,
      "outputs": [
        {
          "output_type": "display_data",
          "data": {
            "text/plain": [
              "<PIL.Image.Image image mode=L size=24x24 at 0x7F838178C550>"
            ],
            "image/png": "[encoded data removed]"
          },
          "metadata": {}
        }
      ]
    },
    {
      "cell_type": "code",
      "source": [
        "import pickle\n",
        "filename=\"VJ_adaboost.sav\"\n",
        "pickle.dump(ada_clf, open(filename, 'wb'))\n",
        "\n",
        "#loaded_model = pickle.load(open(filename, 'rb'))"
      ],
      "metadata": {
        "id": "ehtrbsMyFcPy"
      },
      "execution_count": 50,
      "outputs": []
    },
    {
      "cell_type": "code",
      "source": [
        "ada_clf.score(X_test,y_test)"
      ],
      "metadata": {
        "colab": {
          "base_uri": "https://localhost:8080/"
        },
        "id": "gcKeRTrmFo0o",
        "outputId": "b8158d64-e386-40e1-a32b-35f2f9dd12e4"
      },
      "execution_count": 48,
      "outputs": [
        {
          "output_type": "execute_result",
          "data": {
            "text/plain": [
              "0.8828828828828829"
            ]
          },
          "metadata": {},
          "execution_count": 48
        }
      ]
    }
  ]
}