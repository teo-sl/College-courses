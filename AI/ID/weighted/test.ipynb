{
 "cells": [
  {
   "cell_type": "code",
   "execution_count": 1,
   "metadata": {},
   "outputs": [],
   "source": [
    "from Maze import *"
   ]
  },
  {
   "cell_type": "code",
   "execution_count": 2,
   "metadata": {},
   "outputs": [],
   "source": [
    "def get_close(matrix,pos):\n",
    "    i,j=pos\n",
    "    close = []\n",
    "    if i>=0 and matrix[i-1][j]==1:\n",
    "        close.append((i-1,j))\n",
    "    if i<len(matrix)-1 and matrix[i+1][j]==1:\n",
    "        close.append((i+1,j))\n",
    "    if j>=0 and matrix[i][j-1]==1:\n",
    "        close.append((i,j-1))\n",
    "    if j<len(matrix[0])-1 and matrix[i][j+1]==1:\n",
    "        close.append((i,j+1))\n",
    "    return close"
   ]
  },
  {
   "cell_type": "code",
   "execution_count": 3,
   "metadata": {},
   "outputs": [],
   "source": [
    "def visited(maze,wall,maze_cell):\n",
    "    (i,j) = wall\n",
    "    sum = 0\n",
    "    # check the element in the maze up, down, left, right of wall, if the element is in maze\n",
    "    # then add 1 to sum\n",
    "    if i-1>=0 and (i-1,j) in maze_cell :\n",
    "        sum += 1\n",
    "    if i+1<len(maze) and (i+1,j) in maze_cell:\n",
    "        sum += 1\n",
    "    if j-1>=0 and (i,j-1) in maze_cell :\n",
    "        sum += 1\n",
    "    if j+1<len(maze[0]) and (i,j+1) in maze_cell:\n",
    "        sum += 1\n",
    "    return sum\n",
    "    \n"
   ]
  },
  {
   "cell_type": "code",
   "execution_count": 6,
   "metadata": {},
   "outputs": [],
   "source": [
    "def furthest(maze):\n",
    "    visited = []\n",
    "    to_visit = [(0,0)]\n",
    "    while len(to_visit)>0:\n",
    "        i,j = to_visit.pop(0)\n",
    "        visited.append((i,j))\n",
    "        # check up down left right\n",
    "        if i-1>=0 and maze[i-1][j]==0 and (i-1,j) not in visited:\n",
    "            to_visit.append((i-1,j))\n",
    "        if i+1<len(maze) and maze[i+1][j]==0 and (i+1,j) not in visited:\n",
    "            to_visit.append((i+1,j))\n",
    "        if j-1>=0 and maze[i][j-1]==0 and (i,j-1) not in visited:\n",
    "            to_visit.append((i,j-1))\n",
    "        if j+1<len(maze[0]) and maze[i][j+1]==0 and (i,j+1) not in visited:\n",
    "            to_visit.append((i,j+1))\n",
    "    \n",
    "    best = None\n",
    "    for (i,j) in visited:\n",
    "        if best == None or i+j > best[0]+best[1]:\n",
    "            best = (i,j)\n",
    "    return best\n"
   ]
  },
  {
   "cell_type": "code",
   "execution_count": 5,
   "metadata": {},
   "outputs": [],
   "source": [
    "import random\n",
    "def generate_maze(n):\n",
    "    maze = [[1 for i in range(n)] for j in range(n)]\n",
    "    \n",
    "    cell = (0,0)\n",
    "    maze_cell = [cell]\n",
    "    maze[0][0] = 0\n",
    "    walls = get_close(maze,cell)\n",
    "    while len(walls)>0:\n",
    "       # get random element from walls\n",
    "        wall = random.choice(walls)\n",
    "        if visited(maze,wall,maze_cell)==1:\n",
    "            (i,j) = wall\n",
    "            maze[i][j] = 0\n",
    "            maze_cell.append(wall)\n",
    "            walls.extend(get_close(maze,wall))\n",
    "        walls.remove(wall)\n",
    "    return maze\n",
    "\n"
   ]
  },
  {
   "cell_type": "code",
   "execution_count": 6,
   "metadata": {},
   "outputs": [],
   "source": [
    "write_maze(generate_maze(100))\n"
   ]
  },
  {
   "cell_type": "code",
   "execution_count": 2,
   "metadata": {},
   "outputs": [],
   "source": [
    "matrix = read_maze()"
   ]
  },
  {
   "cell_type": "code",
   "execution_count": 3,
   "metadata": {},
   "outputs": [
    {
     "ename": "NameError",
     "evalue": "name 'furthest' is not defined",
     "output_type": "error",
     "traceback": [
      "\u001b[0;31m---------------------------------------------------------------------------\u001b[0m",
      "\u001b[0;31mNameError\u001b[0m                                 Traceback (most recent call last)",
      "\u001b[1;32m/Users/teodorosullazzo/Documents/git_repos/College-courses/AI/ID/weighted/test.ipynb Cella 8\u001b[0m in \u001b[0;36m<cell line: 1>\u001b[0;34m()\u001b[0m\n\u001b[0;32m----> <a href='vscode-notebook-cell:/Users/teodorosullazzo/Documents/git_repos/College-courses/AI/ID/weighted/test.ipynb#ch0000007?line=0'>1</a>\u001b[0m furthest(matrix)\n",
      "\u001b[0;31mNameError\u001b[0m: name 'furthest' is not defined"
     ]
    }
   ],
   "source": [
    "furthest(matrix)"
   ]
  },
  {
   "cell_type": "code",
   "execution_count": 3,
   "metadata": {},
   "outputs": [
    {
     "name": "stdout",
     "output_type": "stream",
     "text": [
      "visited nodes:  702\n",
      "depth:  219\n",
      "Solution found\n"
     ]
    }
   ],
   "source": [
    "\n",
    "root = Maze((0,0),matrix,None)\n",
    "path,solution = A_star(root)\n",
    "if solution == None:\n",
    "    print(\"No solution\")\n",
    "else:\n",
    "    print(\"Solution found\")\n"
   ]
  },
  {
   "cell_type": "markdown",
   "metadata": {},
   "source": [
    "1780"
   ]
  },
  {
   "cell_type": "markdown",
   "metadata": {},
   "source": [
    "5031"
   ]
  },
  {
   "cell_type": "code",
   "execution_count": 5,
   "metadata": {},
   "outputs": [],
   "source": [
    "matrix_2 = matrix.copy()"
   ]
  },
  {
   "cell_type": "code",
   "execution_count": 6,
   "metadata": {},
   "outputs": [],
   "source": [
    "for (i,j) in path:\n",
    "    matrix_2[i][j] = \"*\""
   ]
  },
  {
   "cell_type": "code",
   "execution_count": 7,
   "metadata": {},
   "outputs": [],
   "source": [
    "def write_maze_(maze,file):\n",
    "    with open(file,'w') as f:\n",
    "        for line in maze:\n",
    "            for x in line:\n",
    "                f.write(str(x)+\" \")\n",
    "            f.write(\"\\n\")"
   ]
  },
  {
   "cell_type": "code",
   "execution_count": 9,
   "metadata": {},
   "outputs": [],
   "source": [
    "# write the solution to a file\n",
    "write_maze_(matrix_2,\"solution.txt\")"
   ]
  },
  {
   "cell_type": "code",
   "execution_count": null,
   "metadata": {},
   "outputs": [],
   "source": []
  }
 ],
 "metadata": {
  "kernelspec": {
   "display_name": "Python 3.10.9 64-bit",
   "language": "python",
   "name": "python3"
  },
  "language_info": {
   "codemirror_mode": {
    "name": "ipython",
    "version": 3
   },
   "file_extension": ".py",
   "mimetype": "text/x-python",
   "name": "python",
   "nbconvert_exporter": "python",
   "pygments_lexer": "ipython3",
   "version": "3.10.9"
  },
  "orig_nbformat": 4,
  "vscode": {
   "interpreter": {
    "hash": "b0fa6594d8f4cbf19f97940f81e996739fb7646882a419484c72d19e05852a7e"
   }
  }
 },
 "nbformat": 4,
 "nbformat_minor": 2
}
